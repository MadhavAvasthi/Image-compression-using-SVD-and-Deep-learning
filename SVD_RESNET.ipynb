{
  "cells": [
    {
      "cell_type": "code",
      "execution_count": null,
      "metadata": {
        "id": "sMUbz2sZPaiM"
      },
      "outputs": [],
      "source": [
        "%matplotlib inline\n",
        "import os\n",
        "import ktrain\n",
        "from ktrain import vision as vis"
      ]
    },
    {
      "cell_type": "code",
      "execution_count": null,
      "metadata": {
        "colab": {
          "base_uri": "https://localhost:8080/"
        },
        "id": "5hW_tvdG5qlS",
        "outputId": "480a4344-971e-46f5-8650-dcccaff48fc1"
      },
      "outputs": [
        {
          "output_type": "stream",
          "name": "stdout",
          "text": [
            "Looking in indexes: https://pypi.org/simple, https://us-python.pkg.dev/colab-wheels/public/simple/\n",
            "Collecting ktrain\n",
            "  Downloading ktrain-0.31.2-py3-none-any.whl (25.3 MB)\n",
            "\u001b[K     |████████████████████████████████| 25.3 MB 1.4 MB/s \n",
            "\u001b[?25hCollecting transformers==4.10.3\n",
            "  Downloading transformers-4.10.3-py3-none-any.whl (2.8 MB)\n",
            "\u001b[K     |████████████████████████████████| 2.8 MB 66.1 MB/s \n",
            "\u001b[?25hRequirement already satisfied: fastprogress>=0.1.21 in /usr/local/lib/python3.7/dist-packages (from ktrain) (1.0.2)\n",
            "Collecting syntok==1.3.3\n",
            "  Downloading syntok-1.3.3-py3-none-any.whl (22 kB)\n",
            "Requirement already satisfied: joblib in /usr/local/lib/python3.7/dist-packages (from ktrain) (1.1.0)\n",
            "Requirement already satisfied: pandas>=1.0.1 in /usr/local/lib/python3.7/dist-packages (from ktrain) (1.3.5)\n",
            "Requirement already satisfied: chardet in /usr/local/lib/python3.7/dist-packages (from ktrain) (3.0.4)\n",
            "Requirement already satisfied: requests in /usr/local/lib/python3.7/dist-packages (from ktrain) (2.23.0)\n",
            "Collecting langdetect\n",
            "  Downloading langdetect-1.0.9.tar.gz (981 kB)\n",
            "\u001b[K     |████████████████████████████████| 981 kB 48.6 MB/s \n",
            "\u001b[?25hCollecting whoosh\n",
            "  Downloading Whoosh-2.7.4-py2.py3-none-any.whl (468 kB)\n",
            "\u001b[K     |████████████████████████████████| 468 kB 57.2 MB/s \n",
            "\u001b[?25hRequirement already satisfied: packaging in /usr/local/lib/python3.7/dist-packages (from ktrain) (21.3)\n",
            "Collecting keras-bert>=0.86.0\n",
            "  Downloading keras-bert-0.89.0.tar.gz (25 kB)\n",
            "Requirement already satisfied: matplotlib>=3.0.0 in /usr/local/lib/python3.7/dist-packages (from ktrain) (3.2.2)\n",
            "Collecting cchardet\n",
            "  Downloading cchardet-2.1.7-cp37-cp37m-manylinux2010_x86_64.whl (263 kB)\n",
            "\u001b[K     |████████████████████████████████| 263 kB 64.2 MB/s \n",
            "\u001b[?25hCollecting sentencepiece\n",
            "  Downloading sentencepiece-0.1.96-cp37-cp37m-manylinux_2_17_x86_64.manylinux2014_x86_64.whl (1.2 MB)\n",
            "\u001b[K     |████████████████████████████████| 1.2 MB 4.7 MB/s \n",
            "\u001b[?25hCollecting scikit-learn==0.24.2\n",
            "  Downloading scikit_learn-0.24.2-cp37-cp37m-manylinux2010_x86_64.whl (22.3 MB)\n",
            "\u001b[K     |████████████████████████████████| 22.3 MB 57.0 MB/s \n",
            "\u001b[?25hRequirement already satisfied: jieba in /usr/local/lib/python3.7/dist-packages (from ktrain) (0.42.1)\n",
            "Requirement already satisfied: scipy>=0.19.1 in /usr/local/lib/python3.7/dist-packages (from scikit-learn==0.24.2->ktrain) (1.7.3)\n",
            "Requirement already satisfied: threadpoolctl>=2.0.0 in /usr/local/lib/python3.7/dist-packages (from scikit-learn==0.24.2->ktrain) (3.1.0)\n",
            "Requirement already satisfied: numpy>=1.13.3 in /usr/local/lib/python3.7/dist-packages (from scikit-learn==0.24.2->ktrain) (1.21.6)\n",
            "Requirement already satisfied: regex in /usr/local/lib/python3.7/dist-packages (from syntok==1.3.3->ktrain) (2022.6.2)\n",
            "Collecting tokenizers<0.11,>=0.10.1\n",
            "  Downloading tokenizers-0.10.3-cp37-cp37m-manylinux_2_5_x86_64.manylinux1_x86_64.manylinux_2_12_x86_64.manylinux2010_x86_64.whl (3.3 MB)\n",
            "\u001b[K     |████████████████████████████████| 3.3 MB 52.9 MB/s \n",
            "\u001b[?25hRequirement already satisfied: tqdm>=4.27 in /usr/local/lib/python3.7/dist-packages (from transformers==4.10.3->ktrain) (4.64.0)\n",
            "Requirement already satisfied: filelock in /usr/local/lib/python3.7/dist-packages (from transformers==4.10.3->ktrain) (3.7.1)\n",
            "Requirement already satisfied: importlib-metadata in /usr/local/lib/python3.7/dist-packages (from transformers==4.10.3->ktrain) (4.12.0)\n",
            "Collecting huggingface-hub>=0.0.12\n",
            "  Downloading huggingface_hub-0.8.1-py3-none-any.whl (101 kB)\n",
            "\u001b[K     |████████████████████████████████| 101 kB 10.1 MB/s \n",
            "\u001b[?25hCollecting pyyaml>=5.1\n",
            "  Downloading PyYAML-6.0-cp37-cp37m-manylinux_2_5_x86_64.manylinux1_x86_64.manylinux_2_12_x86_64.manylinux2010_x86_64.whl (596 kB)\n",
            "\u001b[K     |████████████████████████████████| 596 kB 68.8 MB/s \n",
            "\u001b[?25hCollecting sacremoses\n",
            "  Downloading sacremoses-0.0.53.tar.gz (880 kB)\n",
            "\u001b[K     |████████████████████████████████| 880 kB 48.3 MB/s \n",
            "\u001b[?25hRequirement already satisfied: typing-extensions>=3.7.4.3 in /usr/local/lib/python3.7/dist-packages (from huggingface-hub>=0.0.12->transformers==4.10.3->ktrain) (4.1.1)\n",
            "Collecting keras-transformer==0.40.0\n",
            "  Downloading keras-transformer-0.40.0.tar.gz (9.7 kB)\n",
            "Collecting keras-pos-embd==0.13.0\n",
            "  Downloading keras-pos-embd-0.13.0.tar.gz (5.6 kB)\n",
            "Collecting keras-multi-head==0.29.0\n",
            "  Downloading keras-multi-head-0.29.0.tar.gz (13 kB)\n",
            "Collecting keras-layer-normalization==0.16.0\n",
            "  Downloading keras-layer-normalization-0.16.0.tar.gz (3.9 kB)\n",
            "Collecting keras-position-wise-feed-forward==0.8.0\n",
            "  Downloading keras-position-wise-feed-forward-0.8.0.tar.gz (4.1 kB)\n",
            "Collecting keras-embed-sim==0.10.0\n",
            "  Downloading keras-embed-sim-0.10.0.tar.gz (3.6 kB)\n",
            "Collecting keras-self-attention==0.51.0\n",
            "  Downloading keras-self-attention-0.51.0.tar.gz (11 kB)\n",
            "Requirement already satisfied: kiwisolver>=1.0.1 in /usr/local/lib/python3.7/dist-packages (from matplotlib>=3.0.0->ktrain) (1.4.3)\n",
            "Requirement already satisfied: python-dateutil>=2.1 in /usr/local/lib/python3.7/dist-packages (from matplotlib>=3.0.0->ktrain) (2.8.2)\n",
            "Requirement already satisfied: pyparsing!=2.0.4,!=2.1.2,!=2.1.6,>=2.0.1 in /usr/local/lib/python3.7/dist-packages (from matplotlib>=3.0.0->ktrain) (3.0.9)\n",
            "Requirement already satisfied: cycler>=0.10 in /usr/local/lib/python3.7/dist-packages (from matplotlib>=3.0.0->ktrain) (0.11.0)\n",
            "Requirement already satisfied: pytz>=2017.3 in /usr/local/lib/python3.7/dist-packages (from pandas>=1.0.1->ktrain) (2022.1)\n",
            "Requirement already satisfied: six>=1.5 in /usr/local/lib/python3.7/dist-packages (from python-dateutil>=2.1->matplotlib>=3.0.0->ktrain) (1.15.0)\n",
            "Requirement already satisfied: zipp>=0.5 in /usr/local/lib/python3.7/dist-packages (from importlib-metadata->transformers==4.10.3->ktrain) (3.8.0)\n",
            "Requirement already satisfied: urllib3!=1.25.0,!=1.25.1,<1.26,>=1.21.1 in /usr/local/lib/python3.7/dist-packages (from requests->ktrain) (1.24.3)\n",
            "Requirement already satisfied: idna<3,>=2.5 in /usr/local/lib/python3.7/dist-packages (from requests->ktrain) (2.10)\n",
            "Requirement already satisfied: certifi>=2017.4.17 in /usr/local/lib/python3.7/dist-packages (from requests->ktrain) (2022.6.15)\n",
            "Requirement already satisfied: click in /usr/local/lib/python3.7/dist-packages (from sacremoses->transformers==4.10.3->ktrain) (7.1.2)\n",
            "Building wheels for collected packages: keras-bert, keras-transformer, keras-embed-sim, keras-layer-normalization, keras-multi-head, keras-pos-embd, keras-position-wise-feed-forward, keras-self-attention, langdetect, sacremoses\n",
            "  Building wheel for keras-bert (setup.py) ... \u001b[?25l\u001b[?25hdone\n",
            "  Created wheel for keras-bert: filename=keras_bert-0.89.0-py3-none-any.whl size=33517 sha256=ec401297b413dcb3fe4719c8e1f91e3d4664f2ddebe7a12fb5e406837b7415b3\n",
            "  Stored in directory: /root/.cache/pip/wheels/a4/e8/45/842b3a39831261aef9154b907eacbc4ac99499a99ae829b06f\n",
            "  Building wheel for keras-transformer (setup.py) ... \u001b[?25l\u001b[?25hdone\n",
            "  Created wheel for keras-transformer: filename=keras_transformer-0.40.0-py3-none-any.whl size=12305 sha256=f98f7bd76abb0a8e5ed59642b16b6193266bdeb68539f5762fdf9664355cb5d0\n",
            "  Stored in directory: /root/.cache/pip/wheels/46/68/26/692ed21edd832833c3b0a0e21615bcacd99ca458b3f9ed571f\n",
            "  Building wheel for keras-embed-sim (setup.py) ... \u001b[?25l\u001b[?25hdone\n",
            "  Created wheel for keras-embed-sim: filename=keras_embed_sim-0.10.0-py3-none-any.whl size=3960 sha256=700249946c94a0fb6b8cdc4df48181e5bdff2d0815561150e210ea1e59300002\n",
            "  Stored in directory: /root/.cache/pip/wheels/81/67/b5/d847588d075895281e1cf5590f819bd4cf076a554872268bd5\n",
            "  Building wheel for keras-layer-normalization (setup.py) ... \u001b[?25l\u001b[?25hdone\n",
            "  Created wheel for keras-layer-normalization: filename=keras_layer_normalization-0.16.0-py3-none-any.whl size=4668 sha256=70bf379d49747589f0744959e559e3e2f33d0467924a34206af9a9c3eb0964d3\n",
            "  Stored in directory: /root/.cache/pip/wheels/85/5d/1c/2e619f594f69fbcf8bc20943b27d414871c409be053994813e\n",
            "  Building wheel for keras-multi-head (setup.py) ... \u001b[?25l\u001b[?25hdone\n",
            "  Created wheel for keras-multi-head: filename=keras_multi_head-0.29.0-py3-none-any.whl size=14993 sha256=0a0c560ffea844be96240675544c0db869fdf5cac0b4440c3b6ab302e6f0bbb0\n",
            "  Stored in directory: /root/.cache/pip/wheels/86/aa/3c/9d15d24005179dae08ff291ce99c754b296347817d076fd9fb\n",
            "  Building wheel for keras-pos-embd (setup.py) ... \u001b[?25l\u001b[?25hdone\n",
            "  Created wheel for keras-pos-embd: filename=keras_pos_embd-0.13.0-py3-none-any.whl size=6962 sha256=dc409c3e06a87ce96dfb5271f2892e523165ac2c880362d46a7ca24aeec73a8b\n",
            "  Stored in directory: /root/.cache/pip/wheels/8d/c1/a0/dc44fcf68c857b7ff6be9a97e675e5adf51022eff1169b042f\n",
            "  Building wheel for keras-position-wise-feed-forward (setup.py) ... \u001b[?25l\u001b[?25hdone\n",
            "  Created wheel for keras-position-wise-feed-forward: filename=keras_position_wise_feed_forward-0.8.0-py3-none-any.whl size=4983 sha256=37d7d2c24d84888c6fe4c5cd2ecfd9961215fd80732474b67d1c79d4d038f1cd\n",
            "  Stored in directory: /root/.cache/pip/wheels/c2/75/6f/d42f6e051506f442daeba53ff1e2d21a5f20ef8c411610f2bb\n",
            "  Building wheel for keras-self-attention (setup.py) ... \u001b[?25l\u001b[?25hdone\n",
            "  Created wheel for keras-self-attention: filename=keras_self_attention-0.51.0-py3-none-any.whl size=18912 sha256=50175071a71ff439d00151c5f0f15b9dae385bed9ef3f0b4d1948e1835b4100a\n",
            "  Stored in directory: /root/.cache/pip/wheels/95/b1/a8/5ee00cc137940b2f6fa198212e8f45d813d0e0d9c3a04035a3\n",
            "  Building wheel for langdetect (setup.py) ... \u001b[?25l\u001b[?25hdone\n",
            "  Created wheel for langdetect: filename=langdetect-1.0.9-py3-none-any.whl size=993242 sha256=1588df2f0439c11cbc99eb0e71bdda2df09bb520004044578fad1c1387340b96\n",
            "  Stored in directory: /root/.cache/pip/wheels/c5/96/8a/f90c59ed25d75e50a8c10a1b1c2d4c402e4dacfa87f3aff36a\n",
            "  Building wheel for sacremoses (setup.py) ... \u001b[?25l\u001b[?25hdone\n",
            "  Created wheel for sacremoses: filename=sacremoses-0.0.53-py3-none-any.whl size=895260 sha256=46f9e9c3b867bb0b6370931fd446cb7ff294237fdd2d5f62d8ebb27532110ffd\n",
            "  Stored in directory: /root/.cache/pip/wheels/87/39/dd/a83eeef36d0bf98e7a4d1933a4ad2d660295a40613079bafc9\n",
            "Successfully built keras-bert keras-transformer keras-embed-sim keras-layer-normalization keras-multi-head keras-pos-embd keras-position-wise-feed-forward keras-self-attention langdetect sacremoses\n",
            "Installing collected packages: keras-self-attention, pyyaml, keras-position-wise-feed-forward, keras-pos-embd, keras-multi-head, keras-layer-normalization, keras-embed-sim, tokenizers, sacremoses, keras-transformer, huggingface-hub, whoosh, transformers, syntok, sentencepiece, scikit-learn, langdetect, keras-bert, cchardet, ktrain\n",
            "  Attempting uninstall: pyyaml\n",
            "    Found existing installation: PyYAML 3.13\n",
            "    Uninstalling PyYAML-3.13:\n",
            "      Successfully uninstalled PyYAML-3.13\n",
            "  Attempting uninstall: scikit-learn\n",
            "    Found existing installation: scikit-learn 1.0.2\n",
            "    Uninstalling scikit-learn-1.0.2:\n",
            "      Successfully uninstalled scikit-learn-1.0.2\n",
            "\u001b[31mERROR: pip's dependency resolver does not currently take into account all the packages that are installed. This behaviour is the source of the following dependency conflicts.\n",
            "yellowbrick 1.4 requires scikit-learn>=1.0.0, but you have scikit-learn 0.24.2 which is incompatible.\u001b[0m\n",
            "Successfully installed cchardet-2.1.7 huggingface-hub-0.8.1 keras-bert-0.89.0 keras-embed-sim-0.10.0 keras-layer-normalization-0.16.0 keras-multi-head-0.29.0 keras-pos-embd-0.13.0 keras-position-wise-feed-forward-0.8.0 keras-self-attention-0.51.0 keras-transformer-0.40.0 ktrain-0.31.2 langdetect-1.0.9 pyyaml-6.0 sacremoses-0.0.53 scikit-learn-0.24.2 sentencepiece-0.1.96 syntok-1.3.3 tokenizers-0.10.3 transformers-4.10.3 whoosh-2.7.4\n"
          ]
        }
      ],
      "source": [
        "!pip install ktrain"
      ]
    },
    {
      "cell_type": "code",
      "execution_count": null,
      "metadata": {
        "id": "FnK6DAN35jCL"
      },
      "outputs": [],
      "source": [
        "import numpy as np\n",
        "import pandas as pd\n",
        "from pathlib import Path\n",
        "import os.path\n",
        "from sklearn.model_selection import train_test_split\n",
        "import tensorflow as tf\n",
        "from sklearn.metrics import r2_score"
      ]
    },
    {
      "cell_type": "code",
      "execution_count": null,
      "metadata": {
        "colab": {
          "base_uri": "https://localhost:8080/",
          "height": 74,
          "resources": {
            "http://localhost:8080/nbextensions/google.colab/files.js": {
              "data": "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",
              "headers": [
                [
                  "content-type",
                  "application/javascript"
                ]
              ],
              "ok": true,
              "status": 200,
              "status_text": ""
            }
          }
        },
        "id": "fuo_dABKACjN",
        "outputId": "677f0452-e2f8-4b14-fafa-979da05a6cf6"
      },
      "outputs": [
        {
          "output_type": "display_data",
          "data": {
            "text/plain": [
              "<IPython.core.display.HTML object>"
            ],
            "text/html": [
              "\n",
              "     <input type=\"file\" id=\"files-493e3f83-2748-4392-9372-7da471897a3d\" name=\"files[]\" multiple disabled\n",
              "        style=\"border:none\" />\n",
              "     <output id=\"result-493e3f83-2748-4392-9372-7da471897a3d\">\n",
              "      Upload widget is only available when the cell has been executed in the\n",
              "      current browser session. Please rerun this cell to enable.\n",
              "      </output>\n",
              "      <script src=\"/nbextensions/google.colab/files.js\"></script> "
            ]
          },
          "metadata": {}
        },
        {
          "output_type": "stream",
          "name": "stdout",
          "text": [
            "Saving dataset for resnet 2 - sheet1.csv to dataset for resnet 2 - sheet1.csv\n"
          ]
        }
      ],
      "source": [
        "from google.colab import files\n",
        "upload = files.upload()"
      ]
    },
    {
      "cell_type": "code",
      "execution_count": null,
      "metadata": {
        "id": "Gf4UNhe8ANvJ"
      },
      "outputs": [],
      "source": [
        "a=pd.read_csv(r\"/content/dataset for resnet 2 - sheet1.csv\")"
      ]
    },
    {
      "cell_type": "code",
      "execution_count": null,
      "metadata": {
        "colab": {
          "base_uri": "https://localhost:8080/",
          "height": 468
        },
        "id": "2eH0BTz3AgoB",
        "outputId": "8254f216-987a-4f82-d528-757648aee18a"
      },
      "outputs": [
        {
          "output_type": "execute_result",
          "data": {
            "text/plain": [
              "     Unnamed: 0   graph compressed Image Name  Unnamed: 3    PSNR  \\\n",
              "0            1m     1mg                   1mc         NaN  100.97   \n",
              "1            2m     2mg                   2mc         NaN   97.97   \n",
              "2            3m     3mg                   3mc         NaN  103.75   \n",
              "3            4m     4mg                   4mc         NaN  102.98   \n",
              "4            5m     5mg                   5mc         NaN  101.01   \n",
              "...         ...     ...                   ...         ...     ...   \n",
              "1545      1546m  1546mg                1546mc         NaN   99.11   \n",
              "1546      1547m  1547mg                1547mc         NaN   96.81   \n",
              "1547      1548m  1548mg                1548mc         NaN   98.71   \n",
              "1548      1549m  1549mg                1549mc         NaN   98.00   \n",
              "1549      1550m  1550mg                1550mc         NaN   97.08   \n",
              "\n",
              "      Compression Ratio  rank         name  \\\n",
              "0                 60.45    240     1m.jpeg   \n",
              "1                 57.93    230     2m.jpeg   \n",
              "2                 75.76    300     3m.jpeg   \n",
              "3                 75.56    300     4m.jpeg   \n",
              "4                 45.00    180     5m.jpeg   \n",
              "...                 ...    ...         ...   \n",
              "1545              51.06    280  1546m.jpeg   \n",
              "1546              51.06    280  1547m.jpeg   \n",
              "1547              51.06    280  1548m.jpeg   \n",
              "1548              51.06    280  1549m.jpeg   \n",
              "1549              51.06    280  1550m.jpeg   \n",
              "\n",
              "                                                 path  \n",
              "0        /content/drive/MyDrive/image dataset/1m.jpeg  \n",
              "1        /content/drive/MyDrive/image dataset/2m.jpeg  \n",
              "2        /content/drive/MyDrive/image dataset/3m.jpeg  \n",
              "3        /content/drive/MyDrive/image dataset/4m.jpeg  \n",
              "4        /content/drive/MyDrive/image dataset/5m.jpeg  \n",
              "...                                               ...  \n",
              "1545  /content/drive/MyDrive/image dataset/1546m.jpeg  \n",
              "1546  /content/drive/MyDrive/image dataset/1547m.jpeg  \n",
              "1547  /content/drive/MyDrive/image dataset/1548m.jpeg  \n",
              "1548  /content/drive/MyDrive/image dataset/1549m.jpeg  \n",
              "1549  /content/drive/MyDrive/image dataset/1550m.jpeg  \n",
              "\n",
              "[1550 rows x 9 columns]"
            ],
            "text/html": [
              "\n",
              "  <div id=\"df-f41d37d7-de94-4623-97cf-3c8c49c3d6c4\">\n",
              "    <div class=\"colab-df-container\">\n",
              "      <div>\n",
              "<style scoped>\n",
              "    .dataframe tbody tr th:only-of-type {\n",
              "        vertical-align: middle;\n",
              "    }\n",
              "\n",
              "    .dataframe tbody tr th {\n",
              "        vertical-align: top;\n",
              "    }\n",
              "\n",
              "    .dataframe thead th {\n",
              "        text-align: right;\n",
              "    }\n",
              "</style>\n",
              "<table border=\"1\" class=\"dataframe\">\n",
              "  <thead>\n",
              "    <tr style=\"text-align: right;\">\n",
              "      <th></th>\n",
              "      <th>Unnamed: 0</th>\n",
              "      <th>graph</th>\n",
              "      <th>compressed Image Name</th>\n",
              "      <th>Unnamed: 3</th>\n",
              "      <th>PSNR</th>\n",
              "      <th>Compression Ratio</th>\n",
              "      <th>rank</th>\n",
              "      <th>name</th>\n",
              "      <th>path</th>\n",
              "    </tr>\n",
              "  </thead>\n",
              "  <tbody>\n",
              "    <tr>\n",
              "      <th>0</th>\n",
              "      <td>1m</td>\n",
              "      <td>1mg</td>\n",
              "      <td>1mc</td>\n",
              "      <td>NaN</td>\n",
              "      <td>100.97</td>\n",
              "      <td>60.45</td>\n",
              "      <td>240</td>\n",
              "      <td>1m.jpeg</td>\n",
              "      <td>/content/drive/MyDrive/image dataset/1m.jpeg</td>\n",
              "    </tr>\n",
              "    <tr>\n",
              "      <th>1</th>\n",
              "      <td>2m</td>\n",
              "      <td>2mg</td>\n",
              "      <td>2mc</td>\n",
              "      <td>NaN</td>\n",
              "      <td>97.97</td>\n",
              "      <td>57.93</td>\n",
              "      <td>230</td>\n",
              "      <td>2m.jpeg</td>\n",
              "      <td>/content/drive/MyDrive/image dataset/2m.jpeg</td>\n",
              "    </tr>\n",
              "    <tr>\n",
              "      <th>2</th>\n",
              "      <td>3m</td>\n",
              "      <td>3mg</td>\n",
              "      <td>3mc</td>\n",
              "      <td>NaN</td>\n",
              "      <td>103.75</td>\n",
              "      <td>75.76</td>\n",
              "      <td>300</td>\n",
              "      <td>3m.jpeg</td>\n",
              "      <td>/content/drive/MyDrive/image dataset/3m.jpeg</td>\n",
              "    </tr>\n",
              "    <tr>\n",
              "      <th>3</th>\n",
              "      <td>4m</td>\n",
              "      <td>4mg</td>\n",
              "      <td>4mc</td>\n",
              "      <td>NaN</td>\n",
              "      <td>102.98</td>\n",
              "      <td>75.56</td>\n",
              "      <td>300</td>\n",
              "      <td>4m.jpeg</td>\n",
              "      <td>/content/drive/MyDrive/image dataset/4m.jpeg</td>\n",
              "    </tr>\n",
              "    <tr>\n",
              "      <th>4</th>\n",
              "      <td>5m</td>\n",
              "      <td>5mg</td>\n",
              "      <td>5mc</td>\n",
              "      <td>NaN</td>\n",
              "      <td>101.01</td>\n",
              "      <td>45.00</td>\n",
              "      <td>180</td>\n",
              "      <td>5m.jpeg</td>\n",
              "      <td>/content/drive/MyDrive/image dataset/5m.jpeg</td>\n",
              "    </tr>\n",
              "    <tr>\n",
              "      <th>...</th>\n",
              "      <td>...</td>\n",
              "      <td>...</td>\n",
              "      <td>...</td>\n",
              "      <td>...</td>\n",
              "      <td>...</td>\n",
              "      <td>...</td>\n",
              "      <td>...</td>\n",
              "      <td>...</td>\n",
              "      <td>...</td>\n",
              "    </tr>\n",
              "    <tr>\n",
              "      <th>1545</th>\n",
              "      <td>1546m</td>\n",
              "      <td>1546mg</td>\n",
              "      <td>1546mc</td>\n",
              "      <td>NaN</td>\n",
              "      <td>99.11</td>\n",
              "      <td>51.06</td>\n",
              "      <td>280</td>\n",
              "      <td>1546m.jpeg</td>\n",
              "      <td>/content/drive/MyDrive/image dataset/1546m.jpeg</td>\n",
              "    </tr>\n",
              "    <tr>\n",
              "      <th>1546</th>\n",
              "      <td>1547m</td>\n",
              "      <td>1547mg</td>\n",
              "      <td>1547mc</td>\n",
              "      <td>NaN</td>\n",
              "      <td>96.81</td>\n",
              "      <td>51.06</td>\n",
              "      <td>280</td>\n",
              "      <td>1547m.jpeg</td>\n",
              "      <td>/content/drive/MyDrive/image dataset/1547m.jpeg</td>\n",
              "    </tr>\n",
              "    <tr>\n",
              "      <th>1547</th>\n",
              "      <td>1548m</td>\n",
              "      <td>1548mg</td>\n",
              "      <td>1548mc</td>\n",
              "      <td>NaN</td>\n",
              "      <td>98.71</td>\n",
              "      <td>51.06</td>\n",
              "      <td>280</td>\n",
              "      <td>1548m.jpeg</td>\n",
              "      <td>/content/drive/MyDrive/image dataset/1548m.jpeg</td>\n",
              "    </tr>\n",
              "    <tr>\n",
              "      <th>1548</th>\n",
              "      <td>1549m</td>\n",
              "      <td>1549mg</td>\n",
              "      <td>1549mc</td>\n",
              "      <td>NaN</td>\n",
              "      <td>98.00</td>\n",
              "      <td>51.06</td>\n",
              "      <td>280</td>\n",
              "      <td>1549m.jpeg</td>\n",
              "      <td>/content/drive/MyDrive/image dataset/1549m.jpeg</td>\n",
              "    </tr>\n",
              "    <tr>\n",
              "      <th>1549</th>\n",
              "      <td>1550m</td>\n",
              "      <td>1550mg</td>\n",
              "      <td>1550mc</td>\n",
              "      <td>NaN</td>\n",
              "      <td>97.08</td>\n",
              "      <td>51.06</td>\n",
              "      <td>280</td>\n",
              "      <td>1550m.jpeg</td>\n",
              "      <td>/content/drive/MyDrive/image dataset/1550m.jpeg</td>\n",
              "    </tr>\n",
              "  </tbody>\n",
              "</table>\n",
              "<p>1550 rows × 9 columns</p>\n",
              "</div>\n",
              "      <button class=\"colab-df-convert\" onclick=\"convertToInteractive('df-f41d37d7-de94-4623-97cf-3c8c49c3d6c4')\"\n",
              "              title=\"Convert this dataframe to an interactive table.\"\n",
              "              style=\"display:none;\">\n",
              "        \n",
              "  <svg xmlns=\"http://www.w3.org/2000/svg\" height=\"24px\"viewBox=\"0 0 24 24\"\n",
              "       width=\"24px\">\n",
              "    <path d=\"M0 0h24v24H0V0z\" fill=\"none\"/>\n",
              "    <path d=\"M18.56 5.44l.94 2.06.94-2.06 2.06-.94-2.06-.94-.94-2.06-.94 2.06-2.06.94zm-11 1L8.5 8.5l.94-2.06 2.06-.94-2.06-.94L8.5 2.5l-.94 2.06-2.06.94zm10 10l.94 2.06.94-2.06 2.06-.94-2.06-.94-.94-2.06-.94 2.06-2.06.94z\"/><path d=\"M17.41 7.96l-1.37-1.37c-.4-.4-.92-.59-1.43-.59-.52 0-1.04.2-1.43.59L10.3 9.45l-7.72 7.72c-.78.78-.78 2.05 0 2.83L4 21.41c.39.39.9.59 1.41.59.51 0 1.02-.2 1.41-.59l7.78-7.78 2.81-2.81c.8-.78.8-2.07 0-2.86zM5.41 20L4 18.59l7.72-7.72 1.47 1.35L5.41 20z\"/>\n",
              "  </svg>\n",
              "      </button>\n",
              "      \n",
              "  <style>\n",
              "    .colab-df-container {\n",
              "      display:flex;\n",
              "      flex-wrap:wrap;\n",
              "      gap: 12px;\n",
              "    }\n",
              "\n",
              "    .colab-df-convert {\n",
              "      background-color: #E8F0FE;\n",
              "      border: none;\n",
              "      border-radius: 50%;\n",
              "      cursor: pointer;\n",
              "      display: none;\n",
              "      fill: #1967D2;\n",
              "      height: 32px;\n",
              "      padding: 0 0 0 0;\n",
              "      width: 32px;\n",
              "    }\n",
              "\n",
              "    .colab-df-convert:hover {\n",
              "      background-color: #E2EBFA;\n",
              "      box-shadow: 0px 1px 2px rgba(60, 64, 67, 0.3), 0px 1px 3px 1px rgba(60, 64, 67, 0.15);\n",
              "      fill: #174EA6;\n",
              "    }\n",
              "\n",
              "    [theme=dark] .colab-df-convert {\n",
              "      background-color: #3B4455;\n",
              "      fill: #D2E3FC;\n",
              "    }\n",
              "\n",
              "    [theme=dark] .colab-df-convert:hover {\n",
              "      background-color: #434B5C;\n",
              "      box-shadow: 0px 1px 3px 1px rgba(0, 0, 0, 0.15);\n",
              "      filter: drop-shadow(0px 1px 2px rgba(0, 0, 0, 0.3));\n",
              "      fill: #FFFFFF;\n",
              "    }\n",
              "  </style>\n",
              "\n",
              "      <script>\n",
              "        const buttonEl =\n",
              "          document.querySelector('#df-f41d37d7-de94-4623-97cf-3c8c49c3d6c4 button.colab-df-convert');\n",
              "        buttonEl.style.display =\n",
              "          google.colab.kernel.accessAllowed ? 'block' : 'none';\n",
              "\n",
              "        async function convertToInteractive(key) {\n",
              "          const element = document.querySelector('#df-f41d37d7-de94-4623-97cf-3c8c49c3d6c4');\n",
              "          const dataTable =\n",
              "            await google.colab.kernel.invokeFunction('convertToInteractive',\n",
              "                                                     [key], {});\n",
              "          if (!dataTable) return;\n",
              "\n",
              "          const docLinkHtml = 'Like what you see? Visit the ' +\n",
              "            '<a target=\"_blank\" href=https://colab.research.google.com/notebooks/data_table.ipynb>data table notebook</a>'\n",
              "            + ' to learn more about interactive tables.';\n",
              "          element.innerHTML = '';\n",
              "          dataTable['output_type'] = 'display_data';\n",
              "          await google.colab.output.renderOutput(dataTable, element);\n",
              "          const docLink = document.createElement('div');\n",
              "          docLink.innerHTML = docLinkHtml;\n",
              "          element.appendChild(docLink);\n",
              "        }\n",
              "      </script>\n",
              "    </div>\n",
              "  </div>\n",
              "  "
            ]
          },
          "metadata": {},
          "execution_count": 7
        }
      ],
      "source": [
        "a"
      ]
    },
    {
      "cell_type": "code",
      "execution_count": null,
      "metadata": {
        "id": "1BCPPq0UAice"
      },
      "outputs": [],
      "source": [
        "image_dir=Path(\"/content/drive/MyDrive/image dataset\")"
      ]
    },
    {
      "cell_type": "code",
      "execution_count": null,
      "metadata": {
        "id": "EwgGZoHgBTX0"
      },
      "outputs": [],
      "source": [
        "filepaths=pd.Series(list(image_dir.glob(r\"**/*.jpeg\")),name='Filepath').astype(str)\n",
        "nm=pd.Series(filepaths.apply(lambda x: os.path.split(x)[1]), name=\"name\")"
      ]
    },
    {
      "cell_type": "code",
      "source": [
        "filepaths"
      ],
      "metadata": {
        "colab": {
          "base_uri": "https://localhost:8080/"
        },
        "id": "2CT7fQhWNsi1",
        "outputId": "3509a032-93a5-4b7f-eecf-57fbfa7d09ab"
      },
      "execution_count": null,
      "outputs": [
        {
          "output_type": "execute_result",
          "data": {
            "text/plain": [
              "0          /content/drive/MyDrive/image dataset/324m.jpeg\n",
              "1          /content/drive/MyDrive/image dataset/327m.jpeg\n",
              "2          /content/drive/MyDrive/image dataset/325m.jpeg\n",
              "3          /content/drive/MyDrive/image dataset/326m.jpeg\n",
              "4          /content/drive/MyDrive/image dataset/329m.jpeg\n",
              "                              ...                        \n",
              "2980    /content/drive/MyDrive/image dataset/chest_xra...\n",
              "2981    /content/drive/MyDrive/image dataset/chest_xra...\n",
              "2982    /content/drive/MyDrive/image dataset/chest_xra...\n",
              "2983    /content/drive/MyDrive/image dataset/chest_xra...\n",
              "2984    /content/drive/MyDrive/image dataset/chest_xra...\n",
              "Name: Filepath, Length: 2985, dtype: object"
            ]
          },
          "metadata": {},
          "execution_count": 7
        }
      ]
    },
    {
      "cell_type": "code",
      "execution_count": null,
      "metadata": {
        "id": "Lwo9sBgRBWHZ"
      },
      "outputs": [],
      "source": [
        "img= pd.DataFrame(nm)"
      ]
    },
    {
      "cell_type": "code",
      "execution_count": null,
      "metadata": {
        "id": "pIuF12J5BYaS"
      },
      "outputs": [],
      "source": [
        "c=a.iloc[:,[6,7]]"
      ]
    },
    {
      "cell_type": "code",
      "execution_count": null,
      "metadata": {
        "id": "QqEOYdp1BaXZ"
      },
      "outputs": [],
      "source": [
        "filepaths=pd.DataFrame(filepaths)"
      ]
    },
    {
      "cell_type": "code",
      "execution_count": null,
      "metadata": {
        "id": "WPYCEyYPBfzB"
      },
      "outputs": [],
      "source": [
        "img2=pd.concat([filepaths,img],axis=1)"
      ]
    },
    {
      "cell_type": "code",
      "execution_count": null,
      "metadata": {
        "id": "anXn6-J5Bie7"
      },
      "outputs": [],
      "source": [
        "img3=pd.merge(img2,c,on='name')"
      ]
    },
    {
      "cell_type": "code",
      "execution_count": null,
      "metadata": {
        "colab": {
          "base_uri": "https://localhost:8080/",
          "height": 424
        },
        "id": "VxP8vJDeBlbo",
        "outputId": "c1d43f8b-c839-4a93-b465-dd0715f53b81"
      },
      "outputs": [
        {
          "output_type": "execute_result",
          "data": {
            "text/plain": [
              "                                            Filepath       name  rank \n",
              "0     /content/drive/MyDrive/image dataset/313m.jpeg  313m.jpeg    200\n",
              "1     /content/drive/MyDrive/image dataset/315m.jpeg  315m.jpeg    120\n",
              "2     /content/drive/MyDrive/image dataset/316m.jpeg  316m.jpeg    130\n",
              "3     /content/drive/MyDrive/image dataset/317m.jpeg  317m.jpeg    130\n",
              "4     /content/drive/MyDrive/image dataset/318m.jpeg  318m.jpeg    170\n",
              "...                                              ...        ...    ...\n",
              "1499  /content/drive/MyDrive/image dataset/310m.jpeg  310m.jpeg    100\n",
              "1500  /content/drive/MyDrive/image dataset/309m.jpeg  309m.jpeg    120\n",
              "1501  /content/drive/MyDrive/image dataset/312m.jpeg  312m.jpeg    110\n",
              "1502  /content/drive/MyDrive/image dataset/311m.jpeg  311m.jpeg    110\n",
              "1503  /content/drive/MyDrive/image dataset/314m.jpeg  314m.jpeg    140\n",
              "\n",
              "[1504 rows x 3 columns]"
            ],
            "text/html": [
              "\n",
              "  <div id=\"df-911c6721-5618-48f6-be55-64e5720d7da7\">\n",
              "    <div class=\"colab-df-container\">\n",
              "      <div>\n",
              "<style scoped>\n",
              "    .dataframe tbody tr th:only-of-type {\n",
              "        vertical-align: middle;\n",
              "    }\n",
              "\n",
              "    .dataframe tbody tr th {\n",
              "        vertical-align: top;\n",
              "    }\n",
              "\n",
              "    .dataframe thead th {\n",
              "        text-align: right;\n",
              "    }\n",
              "</style>\n",
              "<table border=\"1\" class=\"dataframe\">\n",
              "  <thead>\n",
              "    <tr style=\"text-align: right;\">\n",
              "      <th></th>\n",
              "      <th>Filepath</th>\n",
              "      <th>name</th>\n",
              "      <th>rank</th>\n",
              "    </tr>\n",
              "  </thead>\n",
              "  <tbody>\n",
              "    <tr>\n",
              "      <th>0</th>\n",
              "      <td>/content/drive/MyDrive/image dataset/313m.jpeg</td>\n",
              "      <td>313m.jpeg</td>\n",
              "      <td>200</td>\n",
              "    </tr>\n",
              "    <tr>\n",
              "      <th>1</th>\n",
              "      <td>/content/drive/MyDrive/image dataset/315m.jpeg</td>\n",
              "      <td>315m.jpeg</td>\n",
              "      <td>120</td>\n",
              "    </tr>\n",
              "    <tr>\n",
              "      <th>2</th>\n",
              "      <td>/content/drive/MyDrive/image dataset/316m.jpeg</td>\n",
              "      <td>316m.jpeg</td>\n",
              "      <td>130</td>\n",
              "    </tr>\n",
              "    <tr>\n",
              "      <th>3</th>\n",
              "      <td>/content/drive/MyDrive/image dataset/317m.jpeg</td>\n",
              "      <td>317m.jpeg</td>\n",
              "      <td>130</td>\n",
              "    </tr>\n",
              "    <tr>\n",
              "      <th>4</th>\n",
              "      <td>/content/drive/MyDrive/image dataset/318m.jpeg</td>\n",
              "      <td>318m.jpeg</td>\n",
              "      <td>170</td>\n",
              "    </tr>\n",
              "    <tr>\n",
              "      <th>...</th>\n",
              "      <td>...</td>\n",
              "      <td>...</td>\n",
              "      <td>...</td>\n",
              "    </tr>\n",
              "    <tr>\n",
              "      <th>1499</th>\n",
              "      <td>/content/drive/MyDrive/image dataset/310m.jpeg</td>\n",
              "      <td>310m.jpeg</td>\n",
              "      <td>100</td>\n",
              "    </tr>\n",
              "    <tr>\n",
              "      <th>1500</th>\n",
              "      <td>/content/drive/MyDrive/image dataset/309m.jpeg</td>\n",
              "      <td>309m.jpeg</td>\n",
              "      <td>120</td>\n",
              "    </tr>\n",
              "    <tr>\n",
              "      <th>1501</th>\n",
              "      <td>/content/drive/MyDrive/image dataset/312m.jpeg</td>\n",
              "      <td>312m.jpeg</td>\n",
              "      <td>110</td>\n",
              "    </tr>\n",
              "    <tr>\n",
              "      <th>1502</th>\n",
              "      <td>/content/drive/MyDrive/image dataset/311m.jpeg</td>\n",
              "      <td>311m.jpeg</td>\n",
              "      <td>110</td>\n",
              "    </tr>\n",
              "    <tr>\n",
              "      <th>1503</th>\n",
              "      <td>/content/drive/MyDrive/image dataset/314m.jpeg</td>\n",
              "      <td>314m.jpeg</td>\n",
              "      <td>140</td>\n",
              "    </tr>\n",
              "  </tbody>\n",
              "</table>\n",
              "<p>1504 rows × 3 columns</p>\n",
              "</div>\n",
              "      <button class=\"colab-df-convert\" onclick=\"convertToInteractive('df-911c6721-5618-48f6-be55-64e5720d7da7')\"\n",
              "              title=\"Convert this dataframe to an interactive table.\"\n",
              "              style=\"display:none;\">\n",
              "        \n",
              "  <svg xmlns=\"http://www.w3.org/2000/svg\" height=\"24px\"viewBox=\"0 0 24 24\"\n",
              "       width=\"24px\">\n",
              "    <path d=\"M0 0h24v24H0V0z\" fill=\"none\"/>\n",
              "    <path d=\"M18.56 5.44l.94 2.06.94-2.06 2.06-.94-2.06-.94-.94-2.06-.94 2.06-2.06.94zm-11 1L8.5 8.5l.94-2.06 2.06-.94-2.06-.94L8.5 2.5l-.94 2.06-2.06.94zm10 10l.94 2.06.94-2.06 2.06-.94-2.06-.94-.94-2.06-.94 2.06-2.06.94z\"/><path d=\"M17.41 7.96l-1.37-1.37c-.4-.4-.92-.59-1.43-.59-.52 0-1.04.2-1.43.59L10.3 9.45l-7.72 7.72c-.78.78-.78 2.05 0 2.83L4 21.41c.39.39.9.59 1.41.59.51 0 1.02-.2 1.41-.59l7.78-7.78 2.81-2.81c.8-.78.8-2.07 0-2.86zM5.41 20L4 18.59l7.72-7.72 1.47 1.35L5.41 20z\"/>\n",
              "  </svg>\n",
              "      </button>\n",
              "      \n",
              "  <style>\n",
              "    .colab-df-container {\n",
              "      display:flex;\n",
              "      flex-wrap:wrap;\n",
              "      gap: 12px;\n",
              "    }\n",
              "\n",
              "    .colab-df-convert {\n",
              "      background-color: #E8F0FE;\n",
              "      border: none;\n",
              "      border-radius: 50%;\n",
              "      cursor: pointer;\n",
              "      display: none;\n",
              "      fill: #1967D2;\n",
              "      height: 32px;\n",
              "      padding: 0 0 0 0;\n",
              "      width: 32px;\n",
              "    }\n",
              "\n",
              "    .colab-df-convert:hover {\n",
              "      background-color: #E2EBFA;\n",
              "      box-shadow: 0px 1px 2px rgba(60, 64, 67, 0.3), 0px 1px 3px 1px rgba(60, 64, 67, 0.15);\n",
              "      fill: #174EA6;\n",
              "    }\n",
              "\n",
              "    [theme=dark] .colab-df-convert {\n",
              "      background-color: #3B4455;\n",
              "      fill: #D2E3FC;\n",
              "    }\n",
              "\n",
              "    [theme=dark] .colab-df-convert:hover {\n",
              "      background-color: #434B5C;\n",
              "      box-shadow: 0px 1px 3px 1px rgba(0, 0, 0, 0.15);\n",
              "      filter: drop-shadow(0px 1px 2px rgba(0, 0, 0, 0.3));\n",
              "      fill: #FFFFFF;\n",
              "    }\n",
              "  </style>\n",
              "\n",
              "      <script>\n",
              "        const buttonEl =\n",
              "          document.querySelector('#df-911c6721-5618-48f6-be55-64e5720d7da7 button.colab-df-convert');\n",
              "        buttonEl.style.display =\n",
              "          google.colab.kernel.accessAllowed ? 'block' : 'none';\n",
              "\n",
              "        async function convertToInteractive(key) {\n",
              "          const element = document.querySelector('#df-911c6721-5618-48f6-be55-64e5720d7da7');\n",
              "          const dataTable =\n",
              "            await google.colab.kernel.invokeFunction('convertToInteractive',\n",
              "                                                     [key], {});\n",
              "          if (!dataTable) return;\n",
              "\n",
              "          const docLinkHtml = 'Like what you see? Visit the ' +\n",
              "            '<a target=\"_blank\" href=https://colab.research.google.com/notebooks/data_table.ipynb>data table notebook</a>'\n",
              "            + ' to learn more about interactive tables.';\n",
              "          element.innerHTML = '';\n",
              "          dataTable['output_type'] = 'display_data';\n",
              "          await google.colab.output.renderOutput(dataTable, element);\n",
              "          const docLink = document.createElement('div');\n",
              "          docLink.innerHTML = docLinkHtml;\n",
              "          element.appendChild(docLink);\n",
              "        }\n",
              "      </script>\n",
              "    </div>\n",
              "  </div>\n",
              "  "
            ]
          },
          "metadata": {},
          "execution_count": 15
        }
      ],
      "source": [
        "img3"
      ]
    },
    {
      "cell_type": "code",
      "execution_count": null,
      "metadata": {
        "id": "3wtr5KG3BnJ9"
      },
      "outputs": [],
      "source": [
        "images=img3.iloc[:,[0,2]]"
      ]
    },
    {
      "cell_type": "code",
      "execution_count": null,
      "metadata": {
        "id": "jX99S6B1B1zp"
      },
      "outputs": [],
      "source": [
        "image_df=images.sample(frac=1.0,random_state=1).reset_index(drop=True)"
      ]
    },
    {
      "cell_type": "code",
      "execution_count": null,
      "metadata": {
        "colab": {
          "base_uri": "https://localhost:8080/",
          "height": 424
        },
        "id": "ZgcwTkMiB5kH",
        "outputId": "ee62a2b1-0b8c-476e-cbdb-7dc397c7d9d3"
      },
      "outputs": [
        {
          "output_type": "execute_result",
          "data": {
            "text/plain": [
              "                                             Filepath  rank \n",
              "0      /content/drive/MyDrive/image dataset/675m.jpeg    230\n",
              "1      /content/drive/MyDrive/image dataset/390m.jpeg    290\n",
              "2      /content/drive/MyDrive/image dataset/252m.jpeg    360\n",
              "3      /content/drive/MyDrive/image dataset/448m.jpeg    280\n",
              "4     /content/drive/MyDrive/image dataset/1023m.jpeg    500\n",
              "...                                               ...    ...\n",
              "1499  /content/drive/MyDrive/image dataset/1287m.jpeg     30\n",
              "1500  /content/drive/MyDrive/image dataset/1498m.jpeg    300\n",
              "1501   /content/drive/MyDrive/image dataset/916m.jpeg    230\n",
              "1502   /content/drive/MyDrive/image dataset/555m.jpeg    190\n",
              "1503   /content/drive/MyDrive/image dataset/956m.jpeg    370\n",
              "\n",
              "[1504 rows x 2 columns]"
            ],
            "text/html": [
              "\n",
              "  <div id=\"df-cc79808c-8372-4760-af8c-551c0efb9701\">\n",
              "    <div class=\"colab-df-container\">\n",
              "      <div>\n",
              "<style scoped>\n",
              "    .dataframe tbody tr th:only-of-type {\n",
              "        vertical-align: middle;\n",
              "    }\n",
              "\n",
              "    .dataframe tbody tr th {\n",
              "        vertical-align: top;\n",
              "    }\n",
              "\n",
              "    .dataframe thead th {\n",
              "        text-align: right;\n",
              "    }\n",
              "</style>\n",
              "<table border=\"1\" class=\"dataframe\">\n",
              "  <thead>\n",
              "    <tr style=\"text-align: right;\">\n",
              "      <th></th>\n",
              "      <th>Filepath</th>\n",
              "      <th>rank</th>\n",
              "    </tr>\n",
              "  </thead>\n",
              "  <tbody>\n",
              "    <tr>\n",
              "      <th>0</th>\n",
              "      <td>/content/drive/MyDrive/image dataset/675m.jpeg</td>\n",
              "      <td>230</td>\n",
              "    </tr>\n",
              "    <tr>\n",
              "      <th>1</th>\n",
              "      <td>/content/drive/MyDrive/image dataset/390m.jpeg</td>\n",
              "      <td>290</td>\n",
              "    </tr>\n",
              "    <tr>\n",
              "      <th>2</th>\n",
              "      <td>/content/drive/MyDrive/image dataset/252m.jpeg</td>\n",
              "      <td>360</td>\n",
              "    </tr>\n",
              "    <tr>\n",
              "      <th>3</th>\n",
              "      <td>/content/drive/MyDrive/image dataset/448m.jpeg</td>\n",
              "      <td>280</td>\n",
              "    </tr>\n",
              "    <tr>\n",
              "      <th>4</th>\n",
              "      <td>/content/drive/MyDrive/image dataset/1023m.jpeg</td>\n",
              "      <td>500</td>\n",
              "    </tr>\n",
              "    <tr>\n",
              "      <th>...</th>\n",
              "      <td>...</td>\n",
              "      <td>...</td>\n",
              "    </tr>\n",
              "    <tr>\n",
              "      <th>1499</th>\n",
              "      <td>/content/drive/MyDrive/image dataset/1287m.jpeg</td>\n",
              "      <td>30</td>\n",
              "    </tr>\n",
              "    <tr>\n",
              "      <th>1500</th>\n",
              "      <td>/content/drive/MyDrive/image dataset/1498m.jpeg</td>\n",
              "      <td>300</td>\n",
              "    </tr>\n",
              "    <tr>\n",
              "      <th>1501</th>\n",
              "      <td>/content/drive/MyDrive/image dataset/916m.jpeg</td>\n",
              "      <td>230</td>\n",
              "    </tr>\n",
              "    <tr>\n",
              "      <th>1502</th>\n",
              "      <td>/content/drive/MyDrive/image dataset/555m.jpeg</td>\n",
              "      <td>190</td>\n",
              "    </tr>\n",
              "    <tr>\n",
              "      <th>1503</th>\n",
              "      <td>/content/drive/MyDrive/image dataset/956m.jpeg</td>\n",
              "      <td>370</td>\n",
              "    </tr>\n",
              "  </tbody>\n",
              "</table>\n",
              "<p>1504 rows × 2 columns</p>\n",
              "</div>\n",
              "      <button class=\"colab-df-convert\" onclick=\"convertToInteractive('df-cc79808c-8372-4760-af8c-551c0efb9701')\"\n",
              "              title=\"Convert this dataframe to an interactive table.\"\n",
              "              style=\"display:none;\">\n",
              "        \n",
              "  <svg xmlns=\"http://www.w3.org/2000/svg\" height=\"24px\"viewBox=\"0 0 24 24\"\n",
              "       width=\"24px\">\n",
              "    <path d=\"M0 0h24v24H0V0z\" fill=\"none\"/>\n",
              "    <path d=\"M18.56 5.44l.94 2.06.94-2.06 2.06-.94-2.06-.94-.94-2.06-.94 2.06-2.06.94zm-11 1L8.5 8.5l.94-2.06 2.06-.94-2.06-.94L8.5 2.5l-.94 2.06-2.06.94zm10 10l.94 2.06.94-2.06 2.06-.94-2.06-.94-.94-2.06-.94 2.06-2.06.94z\"/><path d=\"M17.41 7.96l-1.37-1.37c-.4-.4-.92-.59-1.43-.59-.52 0-1.04.2-1.43.59L10.3 9.45l-7.72 7.72c-.78.78-.78 2.05 0 2.83L4 21.41c.39.39.9.59 1.41.59.51 0 1.02-.2 1.41-.59l7.78-7.78 2.81-2.81c.8-.78.8-2.07 0-2.86zM5.41 20L4 18.59l7.72-7.72 1.47 1.35L5.41 20z\"/>\n",
              "  </svg>\n",
              "      </button>\n",
              "      \n",
              "  <style>\n",
              "    .colab-df-container {\n",
              "      display:flex;\n",
              "      flex-wrap:wrap;\n",
              "      gap: 12px;\n",
              "    }\n",
              "\n",
              "    .colab-df-convert {\n",
              "      background-color: #E8F0FE;\n",
              "      border: none;\n",
              "      border-radius: 50%;\n",
              "      cursor: pointer;\n",
              "      display: none;\n",
              "      fill: #1967D2;\n",
              "      height: 32px;\n",
              "      padding: 0 0 0 0;\n",
              "      width: 32px;\n",
              "    }\n",
              "\n",
              "    .colab-df-convert:hover {\n",
              "      background-color: #E2EBFA;\n",
              "      box-shadow: 0px 1px 2px rgba(60, 64, 67, 0.3), 0px 1px 3px 1px rgba(60, 64, 67, 0.15);\n",
              "      fill: #174EA6;\n",
              "    }\n",
              "\n",
              "    [theme=dark] .colab-df-convert {\n",
              "      background-color: #3B4455;\n",
              "      fill: #D2E3FC;\n",
              "    }\n",
              "\n",
              "    [theme=dark] .colab-df-convert:hover {\n",
              "      background-color: #434B5C;\n",
              "      box-shadow: 0px 1px 3px 1px rgba(0, 0, 0, 0.15);\n",
              "      filter: drop-shadow(0px 1px 2px rgba(0, 0, 0, 0.3));\n",
              "      fill: #FFFFFF;\n",
              "    }\n",
              "  </style>\n",
              "\n",
              "      <script>\n",
              "        const buttonEl =\n",
              "          document.querySelector('#df-cc79808c-8372-4760-af8c-551c0efb9701 button.colab-df-convert');\n",
              "        buttonEl.style.display =\n",
              "          google.colab.kernel.accessAllowed ? 'block' : 'none';\n",
              "\n",
              "        async function convertToInteractive(key) {\n",
              "          const element = document.querySelector('#df-cc79808c-8372-4760-af8c-551c0efb9701');\n",
              "          const dataTable =\n",
              "            await google.colab.kernel.invokeFunction('convertToInteractive',\n",
              "                                                     [key], {});\n",
              "          if (!dataTable) return;\n",
              "\n",
              "          const docLinkHtml = 'Like what you see? Visit the ' +\n",
              "            '<a target=\"_blank\" href=https://colab.research.google.com/notebooks/data_table.ipynb>data table notebook</a>'\n",
              "            + ' to learn more about interactive tables.';\n",
              "          element.innerHTML = '';\n",
              "          dataTable['output_type'] = 'display_data';\n",
              "          await google.colab.output.renderOutput(dataTable, element);\n",
              "          const docLink = document.createElement('div');\n",
              "          docLink.innerHTML = docLinkHtml;\n",
              "          element.appendChild(docLink);\n",
              "        }\n",
              "      </script>\n",
              "    </div>\n",
              "  </div>\n",
              "  "
            ]
          },
          "metadata": {},
          "execution_count": 18
        }
      ],
      "source": [
        "image_df"
      ]
    },
    {
      "cell_type": "code",
      "execution_count": null,
      "metadata": {
        "colab": {
          "base_uri": "https://localhost:8080/"
        },
        "id": "9hvW-_8ZB8e9",
        "outputId": "5847cf96-7a7e-42e9-caeb-c93f18a84937"
      },
      "outputs": [
        {
          "output_type": "stream",
          "name": "stdout",
          "text": [
            "pretrained_resnet50: 50-layer Residual Network (pretrained on ImageNet)\n",
            "resnet50: 50-layer Resididual Network (randomly initialized) [https://arxiv.org/abs/1512.03385]\n",
            "pretrained_mobilenet: MobileNet Neural Network (pretrained on ImageNet)\n",
            "mobilenet: MobileNet Neural Network (randomly initialized) [https://arxiv.org/abs/1704.04861]\n",
            "pretrained_mobilenetv3: MobileNetV3-Small Neural Network (pretrained on ImageNet)\n",
            "mobilenetv3: MobileNetV3-Small Neural Network (randomly initialized) [https://arxiv.org/abs/1905.02244]\n",
            "pretrained_inception: Inception Version 3  (pretrained on ImageNet)\n",
            "inception: Inception Version 3 (randomly initialized) [http://arxiv.org/abs/1512.00567]\n",
            "pretrained_efficientnetb1: EfficientNet-B1 Neural Network (pretrained on ImageNet)\n",
            "efficientnetb1: EfficientNet-B1 Neural Network (pretrained on ImageNet) [https://arxiv.org/abs/1905.11946]\n",
            "pretrained_efficientnetb7: EfficientNet-B7 Neural Network (pretrained on ImageNet)\n",
            "efficientnetb7: EfficientNet-B7 Neural Network (pretrained on ImageNet) [https://arxiv.org/abs/1905.11946]\n",
            "wrn22: 22-layer Wide Residual Network (randomly initialized)\n",
            "default_cnn: a default LeNet-like Convolutional Neural Network\n"
          ]
        }
      ],
      "source": [
        "vis.print_image_regression_models()"
      ]
    },
    {
      "cell_type": "code",
      "execution_count": null,
      "metadata": {
        "id": "PIs0LX3jCU4a"
      },
      "outputs": [],
      "source": [
        "train_df,test_df=train_test_split(image_df,train_size=0.8,shuffle=True,random_state=1)"
      ]
    },
    {
      "cell_type": "code",
      "execution_count": null,
      "metadata": {
        "colab": {
          "base_uri": "https://localhost:8080/"
        },
        "id": "TD5N8n-MCqD-",
        "outputId": "c4a6b925-31ce-499c-a50f-accf5da794e5"
      },
      "outputs": [
        {
          "output_type": "stream",
          "name": "stdout",
          "text": [
            "['rank ']\n",
            "      rank \n",
            "1483  500.0\n",
            "1441  240.0\n",
            "1424  100.0\n",
            "38    300.0\n",
            "547   400.0\n",
            "['rank ']\n",
            "      rank \n",
            "338   210.0\n",
            "118   210.0\n",
            "1136  370.0\n",
            "677   390.0\n",
            "1219  320.0\n",
            "Found 1353 validated image filenames.\n",
            "Found 151 validated image filenames.\n"
          ]
        },
        {
          "output_type": "stream",
          "name": "stderr",
          "text": [
            "/usr/local/lib/python3.7/dist-packages/ktrain/utils.py:723: UserWarning: Task is being treated as REGRESSION because either class_names argument was not supplied or is_regression=True. If this is incorrect, change accordingly.\n",
            "  + \"If this is incorrect, change accordingly.\"\n",
            "/usr/local/lib/python3.7/dist-packages/keras_preprocessing/image/dataframe_iterator.py:282: UserWarning: Found 42 invalid image filename(s) in x_col=\"path\". These filename(s) will be ignored.\n",
            "  .format(n_invalid, x_col)\n",
            "/usr/local/lib/python3.7/dist-packages/keras_preprocessing/image/dataframe_iterator.py:282: UserWarning: Found 4 invalid image filename(s) in x_col=\"path\". These filename(s) will be ignored.\n",
            "  .format(n_invalid, x_col)\n"
          ]
        }
      ],
      "source": [
        "(train_data,test_data,preproc)=vis.images_from_csv(r\"/content/dataset for resnet 2 - sheet1.csv\",\"path\",label_columns=['rank '],is_regression=True, )"
      ]
    },
    {
      "cell_type": "code",
      "execution_count": null,
      "metadata": {
        "colab": {
          "base_uri": "https://localhost:8080/"
        },
        "id": "jGCJtboCDfiw",
        "outputId": "13a6a142-e74e-46ce-b7ef-8e07f53a3fa0"
      },
      "outputs": [
        {
          "output_type": "stream",
          "name": "stdout",
          "text": [
            "The normalization scheme has been changed for use with a pretrained_resnet50 model. If you decide to use a different model, please reload your dataset with a ktrain.vision.data.images_from* function.\n",
            "\n",
            "Is Multi-Label? False\n",
            "Is Regression? True\n",
            "Downloading data from https://storage.googleapis.com/tensorflow/keras-applications/resnet/resnet50_weights_tf_dim_ordering_tf_kernels_notop.h5\n",
            "94773248/94765736 [==============================] - 0s 0us/step\n",
            "94781440/94765736 [==============================] - 0s 0us/step\n",
            "pretrained_resnet50 model created.\n"
          ]
        }
      ],
      "source": [
        "model=vis.image_regression_model('pretrained_resnet50',train_data=train_data,val_data=test_data)"
      ]
    },
    {
      "cell_type": "code",
      "execution_count": null,
      "metadata": {
        "id": "ROySHG6WEuLb"
      },
      "outputs": [],
      "source": [
        "learner=ktrain.get_learner(model=model,train_data=train_data,val_data=test_data,batch_size=64)"
      ]
    },
    {
      "cell_type": "code",
      "execution_count": null,
      "metadata": {
        "colab": {
          "base_uri": "https://localhost:8080/"
        },
        "id": "MExUaop7L3tD",
        "outputId": "0a8de34e-85e1-486a-cbd6-7f27f7f83350"
      },
      "outputs": [
        {
          "output_type": "stream",
          "name": "stdout",
          "text": [
            "\n",
            "\n",
            "begin training using onecycle policy with max lr of 0.0002...\n",
            "Epoch 1/40\n",
            "22/22 [==============================] - 69s 3s/step - loss: 98588.1953 - mae: 285.9511 - val_loss: 81119.0078 - val_mae: 260.9597\n",
            "Epoch 2/40\n",
            "22/22 [==============================] - 51s 2s/step - loss: 85306.0078 - mae: 261.5347 - val_loss: 67989.4297 - val_mae: 234.4832\n",
            "Epoch 3/40\n",
            "22/22 [==============================] - 51s 2s/step - loss: 70635.9609 - mae: 231.6501 - val_loss: 54264.5352 - val_mae: 203.1337\n",
            "Epoch 4/40\n",
            "22/22 [==============================] - 51s 2s/step - loss: 56202.0000 - mae: 197.9615 - val_loss: 41445.2227 - val_mae: 170.6100\n",
            "Epoch 5/40\n",
            "22/22 [==============================] - 51s 2s/step - loss: 43186.0234 - mae: 163.8255 - val_loss: 31200.3516 - val_mae: 142.5460\n",
            "Epoch 6/40\n",
            "22/22 [==============================] - 51s 2s/step - loss: 33699.8242 - mae: 137.2201 - val_loss: 24076.9980 - val_mae: 121.8107\n",
            "Epoch 7/40\n",
            "22/22 [==============================] - 51s 2s/step - loss: 27138.8320 - mae: 119.6023 - val_loss: 19805.7871 - val_mae: 110.0581\n",
            "Epoch 8/40\n",
            "22/22 [==============================] - 51s 2s/step - loss: 23059.3652 - mae: 109.8703 - val_loss: 17691.8652 - val_mae: 104.5656\n",
            "Epoch 9/40\n",
            "22/22 [==============================] - 51s 2s/step - loss: 20936.1367 - mae: 105.5683 - val_loss: 16794.0762 - val_mae: 102.7492\n",
            "Epoch 10/40\n",
            "22/22 [==============================] - 51s 2s/step - loss: 19837.2129 - mae: 103.7780 - val_loss: 16320.0264 - val_mae: 102.0381\n",
            "Epoch 11/40\n",
            "22/22 [==============================] - 51s 2s/step - loss: 19013.0156 - mae: 102.1510 - val_loss: 15949.5410 - val_mae: 101.1943\n",
            "Epoch 12/40\n",
            "22/22 [==============================] - 51s 2s/step - loss: 18398.5957 - mae: 100.6704 - val_loss: 15571.4570 - val_mae: 100.2825\n",
            "Epoch 13/40\n",
            "22/22 [==============================] - 51s 2s/step - loss: 17561.7578 - mae: 98.4292 - val_loss: 15212.2471 - val_mae: 99.4327\n",
            "Epoch 14/40\n",
            "22/22 [==============================] - 51s 2s/step - loss: 16956.7266 - mae: 96.3652 - val_loss: 14776.9121 - val_mae: 98.2666\n",
            "Epoch 15/40\n",
            "22/22 [==============================] - 52s 2s/step - loss: 16333.9258 - mae: 94.1954 - val_loss: 14463.6553 - val_mae: 97.5611\n",
            "Epoch 16/40\n",
            "22/22 [==============================] - 51s 2s/step - loss: 15800.5430 - mae: 92.7232 - val_loss: 14197.4502 - val_mae: 96.9337\n",
            "Epoch 17/40\n",
            "22/22 [==============================] - 51s 2s/step - loss: 15212.1260 - mae: 90.7287 - val_loss: 13937.1836 - val_mae: 96.2672\n",
            "Epoch 18/40\n",
            "22/22 [==============================] - 51s 2s/step - loss: 14751.3672 - mae: 88.6852 - val_loss: 13594.9355 - val_mae: 95.2700\n",
            "Epoch 19/40\n",
            "22/22 [==============================] - 51s 2s/step - loss: 14161.1562 - mae: 86.5111 - val_loss: 13377.6562 - val_mae: 94.6500\n",
            "Epoch 20/40\n",
            "22/22 [==============================] - 51s 2s/step - loss: 13732.9092 - mae: 85.2055 - val_loss: 13224.8320 - val_mae: 94.1802\n",
            "Epoch 21/40\n",
            "22/22 [==============================] - 52s 2s/step - loss: 13278.6367 - mae: 83.3653 - val_loss: 12966.9160 - val_mae: 93.2176\n",
            "Epoch 22/40\n",
            "22/22 [==============================] - 52s 2s/step - loss: 12903.7373 - mae: 81.8733 - val_loss: 12901.5459 - val_mae: 92.9687\n",
            "Epoch 23/40\n",
            "22/22 [==============================] - 52s 2s/step - loss: 12558.3057 - mae: 80.8093 - val_loss: 12821.3291 - val_mae: 92.6008\n",
            "Epoch 24/40\n",
            "22/22 [==============================] - 52s 2s/step - loss: 12232.4980 - mae: 79.4576 - val_loss: 12683.6855 - val_mae: 91.9796\n",
            "Epoch 25/40\n",
            "22/22 [==============================] - 51s 2s/step - loss: 11995.8223 - mae: 78.5001 - val_loss: 12531.0859 - val_mae: 91.3334\n",
            "Epoch 26/40\n",
            "22/22 [==============================] - 51s 2s/step - loss: 11786.1504 - mae: 77.5957 - val_loss: 12493.4111 - val_mae: 91.2087\n",
            "Epoch 27/40\n",
            "22/22 [==============================] - 51s 2s/step - loss: 11546.2988 - mae: 76.4159 - val_loss: 12374.2109 - val_mae: 90.6830\n",
            "Epoch 28/40\n",
            "22/22 [==============================] - 51s 2s/step - loss: 11266.0381 - mae: 75.6848 - val_loss: 12409.1211 - val_mae: 90.8092\n",
            "Epoch 29/40\n",
            "22/22 [==============================] - 51s 2s/step - loss: 11055.0898 - mae: 74.9425 - val_loss: 12319.5430 - val_mae: 90.4263\n",
            "Epoch 30/40\n",
            "22/22 [==============================] - 51s 2s/step - loss: 10891.6035 - mae: 74.3235 - val_loss: 12240.0791 - val_mae: 90.0865\n",
            "Epoch 31/40\n",
            "22/22 [==============================] - 51s 2s/step - loss: 10792.6494 - mae: 73.6277 - val_loss: 12153.0410 - val_mae: 89.6523\n",
            "Epoch 32/40\n",
            "22/22 [==============================] - 51s 2s/step - loss: 10651.1816 - mae: 72.9168 - val_loss: 12158.7041 - val_mae: 89.6874\n",
            "Epoch 33/40\n",
            "22/22 [==============================] - 51s 2s/step - loss: 10497.4316 - mae: 72.4955 - val_loss: 12089.7236 - val_mae: 89.3737\n",
            "Epoch 34/40\n",
            "22/22 [==============================] - 51s 2s/step - loss: 10473.8428 - mae: 72.3863 - val_loss: 12105.4775 - val_mae: 89.4406\n",
            "Epoch 35/40\n",
            "22/22 [==============================] - 51s 2s/step - loss: 10387.1201 - mae: 72.1012 - val_loss: 12088.6904 - val_mae: 89.3503\n",
            "Epoch 36/40\n",
            "22/22 [==============================] - 51s 2s/step - loss: 10255.5400 - mae: 71.6747 - val_loss: 12079.0527 - val_mae: 89.2880\n",
            "Epoch 37/40\n",
            "22/22 [==============================] - 51s 2s/step - loss: 10259.2148 - mae: 71.5155 - val_loss: 12075.7510 - val_mae: 89.2558\n",
            "Epoch 38/40\n",
            "22/22 [==============================] - 51s 2s/step - loss: 10183.7861 - mae: 71.3732 - val_loss: 12071.5029 - val_mae: 89.2247\n",
            "Epoch 39/40\n",
            "22/22 [==============================] - 51s 2s/step - loss: 10183.5459 - mae: 71.5094 - val_loss: 12062.2354 - val_mae: 89.1772\n",
            "Epoch 40/40\n",
            "22/22 [==============================] - 51s 2s/step - loss: 10143.9258 - mae: 71.0097 - val_loss: 12061.0977 - val_mae: 89.1712\n"
          ]
        },
        {
          "output_type": "execute_result",
          "data": {
            "text/plain": [
              "<keras.callbacks.History at 0x7f3d86185f10>"
            ]
          },
          "metadata": {},
          "execution_count": 24
        }
      ],
      "source": [
        "learner.fit_onecycle(2e-4,40)"
      ]
    },
    {
      "cell_type": "code",
      "execution_count": null,
      "metadata": {
        "colab": {
          "base_uri": "https://localhost:8080/"
        },
        "id": "mI_zp7GQMKyB",
        "outputId": "c69ff9ea-48b4-4de7-91e4-d5ce969407cc"
      },
      "outputs": [
        {
          "output_type": "stream",
          "name": "stdout",
          "text": [
            "\n",
            "\n",
            "begin training using onecycle policy with max lr of 0.0003...\n",
            "Epoch 1/40\n",
            "22/22 [==============================] - 62s 2s/step - loss: 10776.1914 - mae: 70.6303 - val_loss: 20188.4473 - val_mae: 116.5841\n",
            "Epoch 2/40\n",
            "22/22 [==============================] - 55s 2s/step - loss: 4741.1523 - mae: 44.7426 - val_loss: 22315.8418 - val_mae: 124.9955\n",
            "Epoch 3/40\n",
            "22/22 [==============================] - 54s 2s/step - loss: 3627.0103 - mae: 36.9450 - val_loss: 23587.3535 - val_mae: 128.9731\n",
            "Epoch 4/40\n",
            "22/22 [==============================] - 55s 2s/step - loss: 3777.5491 - mae: 35.5256 - val_loss: 17705.4004 - val_mae: 109.6154\n",
            "Epoch 5/40\n",
            "22/22 [==============================] - 54s 2s/step - loss: 2172.3628 - mae: 28.0995 - val_loss: 22052.9023 - val_mae: 123.2882\n",
            "Epoch 6/40\n",
            "22/22 [==============================] - 54s 2s/step - loss: 3064.5315 - mae: 32.2965 - val_loss: 18511.6250 - val_mae: 111.8743\n",
            "Epoch 7/40\n",
            "22/22 [==============================] - 54s 2s/step - loss: 2944.1228 - mae: 32.4911 - val_loss: 19954.6953 - val_mae: 118.0927\n",
            "Epoch 8/40\n",
            "22/22 [==============================] - 54s 2s/step - loss: 2854.4004 - mae: 30.0306 - val_loss: 16254.3477 - val_mae: 102.8705\n",
            "Epoch 9/40\n",
            "22/22 [==============================] - 54s 2s/step - loss: 2283.5303 - mae: 31.0046 - val_loss: 15509.6123 - val_mae: 101.0735\n",
            "Epoch 10/40\n",
            "22/22 [==============================] - 54s 2s/step - loss: 2476.5596 - mae: 31.2626 - val_loss: 16855.3516 - val_mae: 106.3863\n",
            "Epoch 11/40\n",
            "22/22 [==============================] - 53s 2s/step - loss: 2493.5754 - mae: 30.8594 - val_loss: 17472.0957 - val_mae: 108.4121\n",
            "Epoch 12/40\n",
            "22/22 [==============================] - 53s 2s/step - loss: 2473.5664 - mae: 28.4384 - val_loss: 14186.9219 - val_mae: 96.0688\n",
            "Epoch 13/40\n",
            "22/22 [==============================] - 53s 2s/step - loss: 1812.3402 - mae: 26.7621 - val_loss: 17488.8574 - val_mae: 108.5048\n",
            "Epoch 14/40\n",
            "22/22 [==============================] - 53s 2s/step - loss: 2023.0745 - mae: 28.5516 - val_loss: 16830.0664 - val_mae: 105.6768\n",
            "Epoch 15/40\n",
            "22/22 [==============================] - 53s 2s/step - loss: 2224.7830 - mae: 30.1199 - val_loss: 14989.7021 - val_mae: 97.7489\n",
            "Epoch 16/40\n",
            "22/22 [==============================] - 53s 2s/step - loss: 1897.3057 - mae: 27.3461 - val_loss: 11074.5078 - val_mae: 81.6611\n",
            "Epoch 17/40\n",
            "22/22 [==============================] - 53s 2s/step - loss: 1958.4314 - mae: 28.3390 - val_loss: 13136.6221 - val_mae: 90.7283\n",
            "Epoch 18/40\n",
            "22/22 [==============================] - 53s 2s/step - loss: 2016.5896 - mae: 24.8238 - val_loss: 13991.5732 - val_mae: 95.0267\n",
            "Epoch 19/40\n",
            "22/22 [==============================] - 53s 2s/step - loss: 1853.3751 - mae: 26.9153 - val_loss: 10269.3857 - val_mae: 78.6833\n",
            "Epoch 20/40\n",
            "22/22 [==============================] - 53s 2s/step - loss: 1742.3464 - mae: 24.4206 - val_loss: 11889.7852 - val_mae: 86.6274\n",
            "Epoch 21/40\n",
            "22/22 [==============================] - 53s 2s/step - loss: 1460.4080 - mae: 23.2722 - val_loss: 11510.8672 - val_mae: 84.1139\n",
            "Epoch 22/40\n",
            "22/22 [==============================] - 53s 2s/step - loss: 1225.8306 - mae: 22.0418 - val_loss: 10764.6670 - val_mae: 81.2430\n",
            "Epoch 23/40\n",
            "22/22 [==============================] - 53s 2s/step - loss: 1206.5487 - mae: 20.0030 - val_loss: 10800.3379 - val_mae: 80.8771\n",
            "Epoch 24/40\n",
            "22/22 [==============================] - 53s 2s/step - loss: 1220.1429 - mae: 18.5314 - val_loss: 9754.7178 - val_mae: 75.5560\n",
            "Epoch 25/40\n",
            "22/22 [==============================] - 54s 2s/step - loss: 1267.4078 - mae: 17.7599 - val_loss: 10537.9756 - val_mae: 80.9232\n",
            "Epoch 26/40\n",
            "22/22 [==============================] - 54s 2s/step - loss: 853.2278 - mae: 16.1569 - val_loss: 10306.4932 - val_mae: 79.0380\n",
            "Epoch 27/40\n",
            "22/22 [==============================] - 53s 2s/step - loss: 805.6699 - mae: 15.7434 - val_loss: 10434.6963 - val_mae: 79.9501\n",
            "Epoch 28/40\n",
            "22/22 [==============================] - 53s 3s/step - loss: 887.2065 - mae: 15.6608 - val_loss: 9642.9355 - val_mae: 75.9102\n",
            "Epoch 29/40\n",
            "22/22 [==============================] - 53s 2s/step - loss: 609.7446 - mae: 12.6883 - val_loss: 9146.2881 - val_mae: 73.4193\n",
            "Epoch 30/40\n",
            "22/22 [==============================] - 53s 2s/step - loss: 643.1021 - mae: 13.4884 - val_loss: 9215.6328 - val_mae: 74.0379\n",
            "Epoch 31/40\n",
            "22/22 [==============================] - 53s 2s/step - loss: 669.7478 - mae: 12.7565 - val_loss: 9090.4219 - val_mae: 73.4262\n",
            "Epoch 32/40\n",
            "22/22 [==============================] - 53s 2s/step - loss: 613.6265 - mae: 12.4920 - val_loss: 8896.4316 - val_mae: 72.2185\n",
            "Epoch 33/40\n",
            "22/22 [==============================] - 54s 2s/step - loss: 591.9095 - mae: 11.8192 - val_loss: 9293.6953 - val_mae: 74.2660\n",
            "Epoch 34/40\n",
            "22/22 [==============================] - 54s 2s/step - loss: 661.4616 - mae: 12.7409 - val_loss: 9068.0762 - val_mae: 72.5031\n",
            "Epoch 35/40\n",
            "22/22 [==============================] - 54s 2s/step - loss: 878.8867 - mae: 13.3441 - val_loss: 9288.9434 - val_mae: 74.4053\n",
            "Epoch 36/40\n",
            "22/22 [==============================] - 54s 2s/step - loss: 650.5650 - mae: 12.5472 - val_loss: 9157.7949 - val_mae: 73.7897\n",
            "Epoch 37/40\n",
            "22/22 [==============================] - 54s 2s/step - loss: 530.5452 - mae: 10.1650 - val_loss: 9036.1094 - val_mae: 72.7868\n",
            "Epoch 38/40\n",
            "22/22 [==============================] - 54s 2s/step - loss: 554.9215 - mae: 10.8618 - val_loss: 9019.9736 - val_mae: 72.7427\n",
            "Epoch 39/40\n",
            "22/22 [==============================] - 54s 2s/step - loss: 526.7112 - mae: 10.6448 - val_loss: 9019.8604 - val_mae: 72.7240\n",
            "Epoch 40/40\n",
            "22/22 [==============================] - 54s 2s/step - loss: 496.4602 - mae: 9.7207 - val_loss: 9022.9141 - val_mae: 72.7269\n"
          ]
        },
        {
          "output_type": "execute_result",
          "data": {
            "text/plain": [
              "<keras.callbacks.History at 0x7f3d860e4490>"
            ]
          },
          "metadata": {},
          "execution_count": 25
        }
      ],
      "source": [
        "learner.freeze(15)\n",
        "learner.fit_onecycle(3e-4,40)"
      ]
    },
    {
      "cell_type": "code",
      "execution_count": null,
      "metadata": {
        "id": "3oVzYPiENooj"
      },
      "outputs": [],
      "source": [
        "predictor=ktrain.get_predictor(learner.model,preproc)"
      ]
    },
    {
      "cell_type": "code",
      "execution_count": null,
      "metadata": {
        "colab": {
          "base_uri": "https://localhost:8080/"
        },
        "id": "Sav6rY52PHyv",
        "outputId": "73483d47-72e8-41f1-cc5c-bf5127e030b5"
      },
      "outputs": [
        {
          "output_type": "execute_result",
          "data": {
            "text/plain": [
              "['/content/drive/MyDrive/image dataset/1360m.jpeg',\n",
              " '/content/drive/MyDrive/image dataset/471m.jpeg',\n",
              " '/content/drive/MyDrive/image dataset/1070m.jpeg',\n",
              " '/content/drive/MyDrive/image dataset/26m.jpeg',\n",
              " '/content/drive/MyDrive/image dataset/111m.jpeg',\n",
              " '/content/drive/MyDrive/image dataset/379m.jpeg',\n",
              " '/content/drive/MyDrive/image dataset/277m.jpeg',\n",
              " '/content/drive/MyDrive/image dataset/1047m.jpeg',\n",
              " '/content/drive/MyDrive/image dataset/408m.jpeg',\n",
              " '/content/drive/MyDrive/image dataset/1367m.jpeg']"
            ]
          },
          "metadata": {},
          "execution_count": 27
        }
      ],
      "source": [
        "test_data.filenames[10:20]"
      ]
    },
    {
      "cell_type": "code",
      "execution_count": null,
      "metadata": {
        "id": "d0Z4mGmRPT0f"
      },
      "outputs": [],
      "source": [
        "def show_prediction(fname):\n",
        "  pred=round(predictor.predict_filename(fname)[0])\n",
        "  vis.show_image(fname)\n",
        "  print(pred)\n"
      ]
    },
    {
      "cell_type": "code",
      "execution_count": null,
      "metadata": {
        "colab": {
          "base_uri": "https://localhost:8080/",
          "height": 286
        },
        "id": "ThaCkH4qSrPJ",
        "outputId": "6dd2894d-6826-4cef-f0ad-d664ca94fe4d"
      },
      "outputs": [
        {
          "output_type": "stream",
          "name": "stdout",
          "text": [
            "261\n"
          ]
        },
        {
          "output_type": "display_data",
          "data": {
            "text/plain": [
              "<Figure size 432x288 with 1 Axes>"
            ],
            "image/png": "[encoded data removed]"
          },
          "metadata": {
            "needs_background": "light"
          }
        }
      ],
      "source": [
        "show_prediction('/content/drive/MyDrive/image dataset/try2.jpeg')"
      ]
    },
    {
      "cell_type": "code",
      "execution_count": null,
      "metadata": {
        "colab": {
          "base_uri": "https://localhost:8080/"
        },
        "id": "1QBomxUyS1EO",
        "outputId": "411e7955-e967-42a9-e420-64b744e0321c"
      },
      "outputs": [
        {
          "output_type": "stream",
          "name": "stdout",
          "text": [
            "[94.98902075  8.52800804]\n",
            "Test R^2: 0.30315\n"
          ]
        }
      ],
      "source": [
        "predicted_rank=np.squeeze(model.predict(test_data))\n",
        "true_rank=test_data.labels\n",
        "rmse=np.sqrt(model.evaluate(test_data,verbose=0))\n",
        "#print(\"Test RMSE: {:.5f}\".format(rmse))\n",
        "print(rmse)\n",
        "r2=r2_score(true_rank,predicted_rank)\n",
        "print(\"Test R^2: {:.5f}\".format(r2))"
      ]
    },
    {
      "cell_type": "code",
      "execution_count": null,
      "metadata": {
        "id": "EMEEmhHM9fHo",
        "colab": {
          "base_uri": "https://localhost:8080/",
          "height": 1000
        },
        "outputId": "f7d3968b-8d41-4fd6-fa09-9e31ed9dccf5"
      },
      "outputs": [
        {
          "output_type": "stream",
          "name": "stdout",
          "text": [
            "505\n",
            "272\n",
            "305\n",
            "506\n",
            "206\n",
            "122\n",
            "352\n",
            "266\n",
            "290\n",
            "369\n",
            "235\n",
            "458\n",
            "318\n",
            "327\n",
            "369\n",
            "226\n",
            "329\n",
            "348\n",
            "290\n",
            "346\n",
            "287\n",
            "314\n",
            "362\n",
            "260\n",
            "359\n",
            "297\n",
            "297\n",
            "331\n",
            "264\n",
            "263\n",
            "213\n"
          ]
        },
        {
          "output_type": "error",
          "ename": "ValueError",
          "evalue": "ignored",
          "traceback": [
            "\u001b[0;31m---------------------------------------------------------------------------\u001b[0m",
            "\u001b[0;31mValueError\u001b[0m                                Traceback (most recent call last)",
            "\u001b[0;32m<ipython-input-38-6cd7f23461f9>\u001b[0m in \u001b[0;36m<module>\u001b[0;34m()\u001b[0m\n\u001b[1;32m      1\u001b[0m \u001b[0;32mfor\u001b[0m \u001b[0mx\u001b[0m \u001b[0;32min\u001b[0m \u001b[0mrange\u001b[0m\u001b[0;34m(\u001b[0m\u001b[0;36m1127\u001b[0m\u001b[0;34m,\u001b[0m\u001b[0;36m1500\u001b[0m\u001b[0;34m)\u001b[0m\u001b[0;34m:\u001b[0m\u001b[0;34m\u001b[0m\u001b[0;34m\u001b[0m\u001b[0m\n\u001b[0;32m----> 2\u001b[0;31m   \u001b[0mshow_prediction\u001b[0m\u001b[0;34m(\u001b[0m\u001b[0;34m\"/content/drive/MyDrive/image dataset/{}m.jpeg\"\u001b[0m\u001b[0;34m.\u001b[0m\u001b[0mformat\u001b[0m\u001b[0;34m(\u001b[0m\u001b[0mx\u001b[0m\u001b[0;34m)\u001b[0m\u001b[0;34m)\u001b[0m\u001b[0;34m\u001b[0m\u001b[0;34m\u001b[0m\u001b[0m\n\u001b[0m\u001b[1;32m      3\u001b[0m   \u001b[0;31m#print(x)\u001b[0m\u001b[0;34m\u001b[0m\u001b[0;34m\u001b[0m\u001b[0;34m\u001b[0m\u001b[0m\n",
            "\u001b[0;32m<ipython-input-28-bb9d6f4755eb>\u001b[0m in \u001b[0;36mshow_prediction\u001b[0;34m(fname)\u001b[0m\n\u001b[1;32m      1\u001b[0m \u001b[0;32mdef\u001b[0m \u001b[0mshow_prediction\u001b[0m\u001b[0;34m(\u001b[0m\u001b[0mfname\u001b[0m\u001b[0;34m)\u001b[0m\u001b[0;34m:\u001b[0m\u001b[0;34m\u001b[0m\u001b[0;34m\u001b[0m\u001b[0m\n\u001b[1;32m      2\u001b[0m   \u001b[0;31m#fname=filenames\u001b[0m\u001b[0;34m\u001b[0m\u001b[0;34m\u001b[0m\u001b[0;34m\u001b[0m\u001b[0m\n\u001b[0;32m----> 3\u001b[0;31m   \u001b[0mpred\u001b[0m\u001b[0;34m=\u001b[0m\u001b[0mround\u001b[0m\u001b[0;34m(\u001b[0m\u001b[0mpredictor\u001b[0m\u001b[0;34m.\u001b[0m\u001b[0mpredict_filename\u001b[0m\u001b[0;34m(\u001b[0m\u001b[0mfname\u001b[0m\u001b[0;34m)\u001b[0m\u001b[0;34m[\u001b[0m\u001b[0;36m0\u001b[0m\u001b[0;34m]\u001b[0m\u001b[0;34m)\u001b[0m\u001b[0;34m\u001b[0m\u001b[0;34m\u001b[0m\u001b[0m\n\u001b[0m\u001b[1;32m      4\u001b[0m   \u001b[0;31m#actual=int(p.search(fname).group(1))\u001b[0m\u001b[0;34m\u001b[0m\u001b[0;34m\u001b[0m\u001b[0;34m\u001b[0m\u001b[0m\n\u001b[1;32m      5\u001b[0m   \u001b[0mvis\u001b[0m\u001b[0;34m.\u001b[0m\u001b[0mshow_image\u001b[0m\u001b[0;34m(\u001b[0m\u001b[0mfname\u001b[0m\u001b[0;34m)\u001b[0m\u001b[0;34m\u001b[0m\u001b[0;34m\u001b[0m\u001b[0m\n",
            "\u001b[0;32m/usr/local/lib/python3.7/dist-packages/ktrain/vision/predictor.py\u001b[0m in \u001b[0;36mpredict_filename\u001b[0;34m(self, img_path, return_proba)\u001b[0m\n\u001b[1;32m    105\u001b[0m         \"\"\"\n\u001b[1;32m    106\u001b[0m         \u001b[0;32mif\u001b[0m \u001b[0;32mnot\u001b[0m \u001b[0mos\u001b[0m\u001b[0;34m.\u001b[0m\u001b[0mpath\u001b[0m\u001b[0;34m.\u001b[0m\u001b[0misfile\u001b[0m\u001b[0;34m(\u001b[0m\u001b[0mimg_path\u001b[0m\u001b[0;34m)\u001b[0m\u001b[0;34m:\u001b[0m\u001b[0;34m\u001b[0m\u001b[0;34m\u001b[0m\u001b[0m\n\u001b[0;32m--> 107\u001b[0;31m             \u001b[0;32mraise\u001b[0m \u001b[0mValueError\u001b[0m\u001b[0;34m(\u001b[0m\u001b[0;34m\"img_path must be valid file\"\u001b[0m\u001b[0;34m)\u001b[0m\u001b[0;34m\u001b[0m\u001b[0;34m\u001b[0m\u001b[0m\n\u001b[0m\u001b[1;32m    108\u001b[0m         (generator, steps) = self.preproc.preprocess(\n\u001b[1;32m    109\u001b[0m             \u001b[0mimg_path\u001b[0m\u001b[0;34m,\u001b[0m \u001b[0mbatch_size\u001b[0m\u001b[0;34m=\u001b[0m\u001b[0mself\u001b[0m\u001b[0;34m.\u001b[0m\u001b[0mbatch_size\u001b[0m\u001b[0;34m\u001b[0m\u001b[0;34m\u001b[0m\u001b[0m\n",
            "\u001b[0;31mValueError\u001b[0m: img_path must be valid file"
          ]
        },
        {
          "output_type": "display_data",
          "data": {
            "text/plain": [
              "<Figure size 432x288 with 1 Axes>"
            ],
            "image/png": "[encoded data removed]"
          },
          "metadata": {
            "needs_background": "light"
          }
        }
      ],
      "source": [
        "for x in range(1,1500):\n",
        "  show_prediction(\"/content/drive/MyDrive/image dataset/{}m.jpeg\".format(x))\n",
        "  #print(x)"
      ]
    },
    {
      "cell_type": "code",
      "source": [
        ""
      ],
      "metadata": {
        "id": "g2OwkY-GxLa1"
      },
      "execution_count": null,
      "outputs": []
    }
  ],
  "metadata": {
    "accelerator": "GPU",
    "colab": {
      "collapsed_sections": [],
      "name": "SVD RESNET.ipynb",
      "provenance": []
    },
    "gpuClass": "standard",
    "kernelspec": {
      "display_name": "Python 3",
      "name": "python3"
    },
    "language_info": {
      "name": "python"
    }
  },
  "nbformat": 4,
  "nbformat_minor": 0
}